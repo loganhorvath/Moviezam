{
 "cells": [
  {
   "cell_type": "code",
   "execution_count": 10,
   "metadata": {},
   "outputs": [],
   "source": [
    "from deepface import DeepFace\n"
   ]
  },
  {
   "cell_type": "code",
   "execution_count": 13,
   "metadata": {},
   "outputs": [
    {
     "name": "stdout",
     "output_type": "stream",
     "text": [
      "25-02-06 13:09:59 - Searching D:\\GitHub\\Movie Shazam\\Face Rec\\MVP\\test_input_photos\\matt_damon_ocean11.jpg in 56 length datastore\n",
      "25-02-06 13:09:59 - find function duration 0.17219114303588867 seconds\n",
      "[                                             identity  \\\n",
      "0   D:\\GitHub\\Movie Shazam\\Face Rec\\MVP\\oceans_11_...   \n",
      "1   D:\\GitHub\\Movie Shazam\\Face Rec\\MVP\\oceans_11_...   \n",
      "2   D:\\GitHub\\Movie Shazam\\Face Rec\\MVP\\oceans_11_...   \n",
      "3   D:\\GitHub\\Movie Shazam\\Face Rec\\MVP\\oceans_11_...   \n",
      "4   D:\\GitHub\\Movie Shazam\\Face Rec\\MVP\\oceans_11_...   \n",
      "5   D:\\GitHub\\Movie Shazam\\Face Rec\\MVP\\oceans_11_...   \n",
      "6   D:\\GitHub\\Movie Shazam\\Face Rec\\MVP\\oceans_11_...   \n",
      "7   D:\\GitHub\\Movie Shazam\\Face Rec\\MVP\\oceans_11_...   \n",
      "8   D:\\GitHub\\Movie Shazam\\Face Rec\\MVP\\oceans_11_...   \n",
      "9   D:\\GitHub\\Movie Shazam\\Face Rec\\MVP\\oceans_11_...   \n",
      "10  D:\\GitHub\\Movie Shazam\\Face Rec\\MVP\\oceans_11_...   \n",
      "\n",
      "                                        hash  target_x  target_y  target_w  \\\n",
      "0   3e44bccd5108d58164a1ad5db6a3c31058b47ae1         0      1221       279   \n",
      "1   419970af4dd391f177ca0b3073512819a79895c9       701       698       278   \n",
      "2   3687585b14f7a6fdf6bad53599479542a204a6c4        87      1310        66   \n",
      "3   3e44bccd5108d58164a1ad5db6a3c31058b47ae1       429       238       407   \n",
      "4   900faf892443f2d6d63e1efbf9105566c6bff0d8         0       175        52   \n",
      "5   ae7465c36b4dc48d92c2bc07f4a33a39dc74fcae       958       582        56   \n",
      "6   301f21fac2ced56251da13bb6731dedfc4cc6305       313       429       393   \n",
      "7   472520141c33dc7ced8bc4b5ca106442c5596675       928       169        51   \n",
      "8   ef8103c28e212b32dac3954728fd5cba686029f6       844       640        94   \n",
      "9   3687585b14f7a6fdf6bad53599479542a204a6c4       261       659        98   \n",
      "10  2ad26a886cbe9a08fce89d2b28c6e426bec03730        65       444        76   \n",
      "\n",
      "    target_h  source_x  source_y  source_w  source_h  threshold  distance  \n",
      "0        279       404       499        89        89       0.68  0.239388  \n",
      "1        307       404       499        89        89       0.68  0.454074  \n",
      "2         66       404       499        89        89       0.68  0.468733  \n",
      "3        407       404       499        89        89       0.68  0.475105  \n",
      "4         52       404       499        89        89       0.68  0.491745  \n",
      "5         56       404       499        89        89       0.68  0.494094  \n",
      "6        393       404       499        89        89       0.68  0.526061  \n",
      "7         64       404       499        89        89       0.68  0.558408  \n",
      "8         94       404       499        89        89       0.68  0.560769  \n",
      "9         98       404       499        89        89       0.68  0.589181  \n",
      "10        76       404       499        89        89       0.68  0.642032  ]\n"
     ]
    }
   ],
   "source": [
    "dfs = DeepFace.find(\n",
    "  img_path = r\"D:\\GitHub\\Movie Shazam\\Face Rec\\MVP\\test_input_photos\\matt_damon_ocean11.jpg\",\n",
    "  db_path = \"D:\\GitHub\\Movie Shazam\\Face Rec\\MVP\\oceans_11_db\",\n",
    ")\n",
    "\n",
    " \n",
    "#D:\\GitHub\\Movie Shazam\\Face Rec\\MVP\\Face Rec DB\\Face Rec Project\\basic_db\\brad pitt\\image (1).jpg\n",
    "\n",
    "print(dfs)"
   ]
  },
  {
   "cell_type": "code",
   "execution_count": 19,
   "metadata": {},
   "outputs": [
    {
     "ename": "TypeError",
     "evalue": "list indices must be integers or slices, not str",
     "output_type": "error",
     "traceback": [
      "\u001b[1;31m---------------------------------------------------------------------------\u001b[0m",
      "\u001b[1;31mTypeError\u001b[0m                                 Traceback (most recent call last)",
      "Cell \u001b[1;32mIn[19], line 1\u001b[0m\n\u001b[1;32m----> 1\u001b[0m \u001b[38;5;28mprint\u001b[39m(\u001b[43mdfs\u001b[49m\u001b[43m[\u001b[49m\u001b[38;5;124;43m\"\u001b[39;49m\u001b[38;5;124;43mpredictions\u001b[39;49m\u001b[38;5;124;43m\"\u001b[39;49m\u001b[43m]\u001b[49m[\u001b[38;5;241m0\u001b[39m][\u001b[38;5;124m\"\u001b[39m\u001b[38;5;124mdistance\u001b[39m\u001b[38;5;124m\"\u001b[39m])\n",
      "\u001b[1;31mTypeError\u001b[0m: list indices must be integers or slices, not str"
     ]
    }
   ],
   "source": [
    "print(dfs[\"predictions\"][0][\"distance\"])"
   ]
  }
 ],
 "metadata": {
  "kernelspec": {
   "display_name": "myenv2",
   "language": "python",
   "name": "python3"
  },
  "language_info": {
   "codemirror_mode": {
    "name": "ipython",
    "version": 3
   },
   "file_extension": ".py",
   "mimetype": "text/x-python",
   "name": "python",
   "nbconvert_exporter": "python",
   "pygments_lexer": "ipython3",
   "version": "3.12.9"
  }
 },
 "nbformat": 4,
 "nbformat_minor": 2
}
